{
 "cells": [
  {
   "cell_type": "markdown",
   "metadata": {},
   "source": [
    "## Connecting Spotipy"
   ]
  },
  {
   "cell_type": "code",
   "execution_count": 1,
   "metadata": {},
   "outputs": [],
   "source": [
    "# imports\n",
    "import pandas as pd\n",
    "import numpy as np\n",
    "import spotipy #pip install spotipy first\n",
    "import os\n",
    "from decouple import config\n",
    "from spotipy.oauth2 import SpotifyClientCredentials # required to access user data\n",
    "import spotipy.util as util"
   ]
  },
  {
   "cell_type": "code",
   "execution_count": 41,
   "metadata": {},
   "outputs": [],
   "source": [
    "cid = config('CLIENT_ID')\n",
    "secret = config('CLIENT_SECRET')\n",
    "user = \n",
    "\n",
    "client_credentials_manager = SpotifyClientCredentials(client_id=cid, client_secret=secret)"
   ]
  },
  {
   "cell_type": "code",
   "execution_count": 67,
   "metadata": {},
   "outputs": [],
   "source": [
    "def get_token(scope=None): #get token and set scope later if want\n",
    "    redirect_uri = \"http://localhost:4000\"\n",
    "    token = util.prompt_for_user_token(user, scope, cid, secret, redirect_uri)\n",
    "    return token"
   ]
  },
  {
   "cell_type": "code",
   "execution_count": 68,
   "metadata": {},
   "outputs": [],
   "source": [
    "token = get_token(scope='playlist-modify-private') # can make public later\n",
    "\n",
    "sp = spotipy.Spotify(auth=token)"
   ]
  },
  {
   "cell_type": "markdown",
   "metadata": {},
   "source": [
    "## Importing in CSVs"
   ]
  },
  {
   "cell_type": "code",
   "execution_count": 73,
   "metadata": {},
   "outputs": [],
   "source": [
    "# read scraped csv to df\n",
    "df = pd.read_csv('data/102008sample.csv')\n",
    "df2 = df.copy().dropna()\n",
    "df3 = df2.copy().drop_duplicates()"
   ]
  },
  {
   "cell_type": "code",
   "execution_count": 74,
   "metadata": {},
   "outputs": [
    {
     "data": {
      "text/plain": [
       "<bound method DataFrame.info of                     title                            artist\n",
       "0              Girlfriend                 Bow Wow & Omarion\n",
       "1             Walk It Out                     Unk & Outkast\n",
       "2                 Cyclone                  BABY BASH/T-PAIN\n",
       "3                     BED                        J. HOLIDAY\n",
       "4             Temperature                         Sean Paul\n",
       "5                  HATERZ                    B.O.B./WES FIF\n",
       "6                  Shawty                      PLIES/T-PAIN\n",
       "7    HATE THAT I LOVE YOU                     RIHANNA/NE-YO\n",
       "8             Money Maker      Ludacris & Pharrell Williams\n",
       "9                  NO ONE                       Alicia Keys\n",
       "10              A Bay Bay                   HURRICANE CHRIS\n",
       "11       Ghetto Superstar                        Pras & Mya\n",
       "12              KISS KISS                CHRIS BROWN/T-PAIN\n",
       "13            WHAT IS IT?           BABY BASH/SEAN KINGSTON\n",
       "14         DUFFLE BAG BOY           PLAYAZ CIRCLE/LIL WAYNE\n",
       "15      Shortie Like Mine             Bow Wow & Chris Brown\n",
       "16                    Low                   FLO RIDA/T-PAIN\n",
       "17      Confessions Pt. 2                             Usher\n",
       "18  CRANK THAT SOULJA BOY                        Soulja Boy\n",
       "19            I'M SO HOOD                   DJ KHALED/PLIES\n",
       "20              APOLOGIZE            TIMBALAND/ONE REPUBLIC\n",
       "21             Kryptonite  Purple Ribbon Allstars & Outkast\n",
       "22              Bartender                       T-PAIN/AKON\n",
       "23               Stronger                        Kanye West\n",
       "24               Sexyback        JUSTIN TIMBERLAKE W/CLIPSE>"
      ]
     },
     "execution_count": 74,
     "metadata": {},
     "output_type": "execute_result"
    }
   ],
   "source": [
    "df3.info"
   ]
  },
  {
   "cell_type": "code",
   "execution_count": 75,
   "metadata": {},
   "outputs": [],
   "source": [
    "def make_playlist(dataframe):\n",
    "    make_playlist = sp.user_playlist_create(user, '95.5 the BEAT - 2008', public=False)\n",
    "    mp_id = make_playlist[\"id\"]\n",
    "    \n",
    "    for i, j in dataframe.iterrows():\n",
    "        title_x = j.title\n",
    "        artist_x = j.artist\n",
    "        search_query = title_x + ' ' + artist_x\n",
    "        search_results = sp.search(q=search_query, limit=1)\n",
    "        try:\n",
    "            uri = [search_results[\"tracks\"][\"items\"][0][\"uri\"]]\n",
    "            sp.playlist_add_items(playlist_id=mp_id, items=uri)\n",
    "        except: pass\n",
    "    return mp_id"
   ]
  },
  {
   "cell_type": "code",
   "execution_count": 76,
   "metadata": {},
   "outputs": [
    {
     "data": {
      "text/plain": [
       "'5qAGZcF0aGCluhOVspnKkm'"
      ]
     },
     "execution_count": 76,
     "metadata": {},
     "output_type": "execute_result"
    }
   ],
   "source": [
    "make_playlist(df3)"
   ]
  },
  {
   "cell_type": "code",
   "execution_count": null,
   "metadata": {},
   "outputs": [],
   "source": []
  }
 ],
 "metadata": {
  "kernelspec": {
   "display_name": "Python 3",
   "language": "python",
   "name": "python3"
  },
  "language_info": {
   "codemirror_mode": {
    "name": "ipython",
    "version": 3
   },
   "file_extension": ".py",
   "mimetype": "text/x-python",
   "name": "python",
   "nbconvert_exporter": "python",
   "pygments_lexer": "ipython3",
   "version": "3.8.5"
  }
 },
 "nbformat": 4,
 "nbformat_minor": 4
}
